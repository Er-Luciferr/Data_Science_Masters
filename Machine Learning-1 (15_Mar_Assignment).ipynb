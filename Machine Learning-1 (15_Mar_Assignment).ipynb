{
 "cells": [
  {
   "cell_type": "markdown",
   "id": "01bfebc2",
   "metadata": {},
   "source": [
    "<h3>Q1: Explain the following with an example:\n",
    "1. Artificial Intelligence\n",
    "2. Machine Learning 3. Deep Learning"
   ]
  },
  {
   "cell_type": "markdown",
   "id": "cd113a6f",
   "metadata": {},
   "source": [
    "- Artificial Intelligence (AI) is the theory and development of computer systems able to perform tasks that normally require human intelligence.\n",
    "<br>eg - ChatGPT\n",
    "\n",
    "- Machine Learning (ML) is a subset of AI that provides software the ability to learn and improve from the data that is being fed into it.\n",
    "<br>eg  - Classification ,  Regression\n",
    "\n",
    "- Deep Learning is a subset of machine learning that uses artificial neural networks to mimic the learning process of the human brain.\n",
    "<br>eg - Voice assistant (Cortana , Siri)"
   ]
  },
  {
   "cell_type": "markdown",
   "id": "1ea66a7a",
   "metadata": {},
   "source": [
    "<h3>Q2: What is supervised learning? List some examples of supervised learning. "
   ]
  },
  {
   "cell_type": "markdown",
   "id": "b670276b",
   "metadata": {},
   "source": [
    "- **Supervised learning** is an approach to machine learning that uses labeled data sets to train algorithms in order to properly classify data and predict outcomes. \n",
    "- <br>Some examples of supervised learning algorithms are linear regression, decision trees, support vector machines, logistic regression, nearest neighbor, Gaussian naive Bayes, and random forest. \n",
    "- <br>These algorithms can be applied to various business applications, such as image- and object-recognition, computer vision, and imagery analysis."
   ]
  },
  {
   "cell_type": "markdown",
   "id": "11a45133",
   "metadata": {},
   "source": [
    "<h3>Q3: What is unsupervised learning? List some examples of unsupervised learning"
   ]
  },
  {
   "cell_type": "markdown",
   "id": "8df8b8d6",
   "metadata": {},
   "source": [
    "- **Unsupervised learning** is a type of machine learning that uses machine learning algorithms to analyze and cluster unlabeled datasets. These algorithms discover hidden patterns or data groupings without the need for human intervention. Its ability to discover similarities and differences in information make it the ideal solution for exploratory data analysis, cross-selling strategies, customer segmentation, and image recognition. \n",
    "\n",
    "- Some examples of unsupervised learning include data exploration, customer segmentation, recommender systems, target marketing campaigns, and data preparation and visualization"
   ]
  },
  {
   "cell_type": "markdown",
   "id": "695ee41e",
   "metadata": {},
   "source": [
    "<h3>Q4: What is the difference between AI. ML. DL, and DS?"
   ]
  },
  {
   "cell_type": "markdown",
   "id": "32b9cba9",
   "metadata": {},
   "source": [
    "1. **Artificial Intelligence (AI)** is the theory and development of computer systems able to perform tasks that normally require human intelligence.\n",
    "2. **Machine Learning (ML)** is a subset of AI that provides software the ability to learn and improve from the data that is being fed into it.\n",
    "3. **Deep Learning (DL)** is a subset of machine learning that uses artificial neural networks to mimic the learning process of the human brain.\n",
    "4. **Data Science (DS)** is an interdisciplinary field that uses scientific methods, processes, algorithms, and systems to extract knowledge and insights from structured and unstructured data.\n",
    "\n"
   ]
  },
  {
   "cell_type": "markdown",
   "id": "77c10349",
   "metadata": {},
   "source": [
    "<h3>Q5: What are the main differences between supervised, unsupervised, and semi-supervised learning? "
   ]
  },
  {
   "cell_type": "markdown",
   "id": "83c583e1",
   "metadata": {},
   "source": [
    "1. **Supervised learning** is a type of machine learning that uses labeled data sets to train algorithms in order to properly classify data and predict outcomes.\n",
    "2. **Unsupervised learning** is a type of machine learning that uses machine learning algorithms to analyze and cluster unlabeled datasets, discovering hidden patterns or data groupings without the need for human intervention.\n",
    "3. **Semi-supervised learning** is a type of machine learning that combines both labeled and unlabeled data during the training process, typically using a small amount of labeled data with a large amount of unlabeled data.\n"
   ]
  },
  {
   "cell_type": "markdown",
   "id": "8494f93e",
   "metadata": {},
   "source": [
    "<h3>Q6: What is train, test and validation split? Explain the importance of each term."
   ]
  },
  {
   "cell_type": "markdown",
   "id": "9d4fb240",
   "metadata": {},
   "source": [
    "1. **Training data** is the data used to train a machine learning model, allowing it to learn and make predictions.\n",
    "2. **Validation data** is the data used to evaluate the performance of a machine learning model during the training process, allowing for the tuning of hyperparameters and the selection of the best model.\n",
    "3. **Test data** is the data used to evaluate the performance of a machine learning model after it has been trained, providing an unbiased estimate of its ability to generalize to new, unseen data.\n"
   ]
  },
  {
   "cell_type": "markdown",
   "id": "323acd90",
   "metadata": {},
   "source": [
    "<h3>Q7: How can unsupervised learning be used in anomaly detection?"
   ]
  },
  {
   "cell_type": "markdown",
   "id": "e9e091fd",
   "metadata": {},
   "source": [
    "Unsupervised learning can be used in anomaly detection by modeling the normal data distribution and defining a measurement to classify samples as anomalous or normal. It does not require any prior knowledge about the anomalies, but assumes that they are rare and make up a small percentage of the data. This approach is often applied in practical applications such as network intrusion detection, fraud detection, and life science and medical domain"
   ]
  },
  {
   "cell_type": "markdown",
   "id": "07ad1f76",
   "metadata": {},
   "source": [
    "<h3>Q8: List down some commonly used supervised learning algorithms and unsupervised learning algorithms."
   ]
  },
  {
   "cell_type": "markdown",
   "id": "f911894b",
   "metadata": {},
   "source": [
    "Some commonly used **supervised learning algorithms** are:\n",
    "1. Linear Regression\n",
    "2. Decision Trees\n",
    "3. Support Vector Machines\n",
    "\n",
    "Some commonly used **unsupervised learning algorithms** are:\n",
    "1. K-means Clustering\n",
    "2. Principal Component Analysis (PCA)\n",
    "3. Hierarchical Clustering\n"
   ]
  }
 ],
 "metadata": {
  "kernelspec": {
   "display_name": "Python 3 (ipykernel)",
   "language": "python",
   "name": "python3"
  },
  "language_info": {
   "codemirror_mode": {
    "name": "ipython",
    "version": 3
   },
   "file_extension": ".py",
   "mimetype": "text/x-python",
   "name": "python",
   "nbconvert_exporter": "python",
   "pygments_lexer": "ipython3",
   "version": "3.9.13"
  }
 },
 "nbformat": 4,
 "nbformat_minor": 5
}
