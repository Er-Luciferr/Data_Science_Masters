{
 "cells": [
  {
   "cell_type": "markdown",
   "id": "1a37f104",
   "metadata": {},
   "source": [
    "<h3>Q1. What are the three measures of central tendency?"
   ]
  },
  {
   "cell_type": "markdown",
   "id": "43818af3",
   "metadata": {},
   "source": [
    "<br> i) MEAN\n",
    "<br> ii) MEDIAN\n",
    "<br> iii) MODE"
   ]
  },
  {
   "cell_type": "markdown",
   "id": "41142f4f",
   "metadata": {},
   "source": [
    "<h3>Q2. What is the difference between the mean, median, and mode? How are they used to measure the\n",
    "central tendency of a dataset?"
   ]
  },
  {
   "cell_type": "markdown",
   "id": "d59d97ba",
   "metadata": {},
   "source": [
    "<br>The mean is the average value of the given observations. It is calculated by adding all the numbers in the dataset and dividing the sum by the total number of numbers .\n",
    "\n",
    "<br>The median is the middle value in the list of given numbers numerically ordered from smallest to biggest. If there are two middle numbers, the median is the average of those two numbers .\n",
    "\n",
    "<br>The mode is the value of the number which occurs most often in the list. If there is more than one mode, it’s okay. If all numbers occur the same number of times, there is no mode .\n",
    "\n",
    "<br>These measures are used to measure central tendency because they help to describe where most of the data in a dataset falls. They can be used to compare different datasets or to understand how spread out or clustered together data points are within a single dataset."
   ]
  },
  {
   "cell_type": "markdown",
   "id": "684b1005",
   "metadata": {},
   "source": [
    "<h3>Q3. Measure the three measures of central tendency for the given height data:\n",
    "<br>[178,177,176,177,178.2,178,175,179,180,175,178.9,176.2,177,172.5,178,176.5]"
   ]
  },
  {
   "cell_type": "code",
   "execution_count": 4,
   "id": "293991e2",
   "metadata": {},
   "outputs": [
    {
     "data": {
      "text/plain": [
       "177.01875"
      ]
     },
     "execution_count": 4,
     "metadata": {},
     "output_type": "execute_result"
    }
   ],
   "source": [
    "import pandas as pd\n",
    "df = [178,177,176,177,178.2,178,175,179,180,175,178.9,176.2,177,172.5,178,176.5]\n",
    "df = pd.Series(df)\n",
    "df.mean()"
   ]
  },
  {
   "cell_type": "code",
   "execution_count": 5,
   "id": "f6e91302",
   "metadata": {},
   "outputs": [
    {
     "data": {
      "text/plain": [
       "0    177.0\n",
       "1    178.0\n",
       "dtype: float64"
      ]
     },
     "execution_count": 5,
     "metadata": {},
     "output_type": "execute_result"
    }
   ],
   "source": [
    "df.mode()"
   ]
  },
  {
   "cell_type": "code",
   "execution_count": 6,
   "id": "558b807a",
   "metadata": {},
   "outputs": [
    {
     "data": {
      "text/plain": [
       "177.0"
      ]
     },
     "execution_count": 6,
     "metadata": {},
     "output_type": "execute_result"
    }
   ],
   "source": [
    "df.median()"
   ]
  },
  {
   "cell_type": "markdown",
   "id": "25ac8bd3",
   "metadata": {},
   "source": [
    "<h3>Q4. Find the standard deviation for the given data:\n",
    "<br>[178,177,176,177,178.2,178,175,179,180,175,178.9,176.2,177,172.5,178,176.5]"
   ]
  },
  {
   "cell_type": "code",
   "execution_count": 7,
   "id": "52627436",
   "metadata": {},
   "outputs": [
    {
     "data": {
      "text/plain": [
       "1.847238930584419"
      ]
     },
     "execution_count": 7,
     "metadata": {},
     "output_type": "execute_result"
    }
   ],
   "source": [
    "df.std()"
   ]
  },
  {
   "cell_type": "markdown",
   "id": "3e1a2724",
   "metadata": {},
   "source": [
    "<h3>Q5. How are measures of dispersion such as range, variance, and standard deviation used to describe\n",
    "the spread of a dataset? Provide an example."
   ]
  },
  {
   "cell_type": "markdown",
   "id": "241ed1ac",
   "metadata": {},
   "source": [
    "The range is the difference between the largest and smallest values in a dataset. It is one of the methods in Measures of Dispersion . For example, given the dataset {4, 6, 9, 3, 7}, the range would be calculated as max(data) - min(data) = 9 - 3 = 6 \n",
    "\n",
    "The variance is one of the measures of dispersion. It gives how the data points varied from the Measure of Central Tendency .\n",
    "\n",
    "The standard deviation is the square root of the variance. It is a measure of how spread out the data is from its mean .\n",
    "\n",
    "These measures are used to describe the spread of a dataset because they help to understand how spread out or clustered together data points are within a single dataset. They can be used to compare different datasets or to understand how much variability there is within a single dataset."
   ]
  },
  {
   "cell_type": "markdown",
   "id": "d7ad09e7",
   "metadata": {},
   "source": [
    "<h3>Q6. What is a Venn diagram?"
   ]
  },
  {
   "cell_type": "markdown",
   "id": "70143ab6",
   "metadata": {},
   "source": [
    "A Venn diagram is a diagram that shows all possible logical relations between a finite collection of different sets ."
   ]
  },
  {
   "cell_type": "markdown",
   "id": "1396ed7f",
   "metadata": {},
   "source": [
    "<h3>Q7. For the two given sets A = (2,3,4,5,6,7) & B = (0,2,6,8,10). Find:\n",
    "<br>(i) A ∩ B\n",
    "<br>(ii) A ⋃ B"
   ]
  },
  {
   "cell_type": "markdown",
   "id": "1fc86c4f",
   "metadata": {},
   "source": [
    "i) (2,6)\n",
    "<br>ii)(0, 2, 3, 4, 5, 6, 7, 8, 10)"
   ]
  },
  {
   "cell_type": "markdown",
   "id": "4048fe0d",
   "metadata": {},
   "source": [
    "<h3>Q8. What do you understand about skewness in data?"
   ]
  },
  {
   "cell_type": "markdown",
   "id": "3e03ece0",
   "metadata": {},
   "source": [
    "Skewness is a measure of the asymmetry of a distribution. A distribution can have right (or positive), left (or negative), or zero skewness .\n"
   ]
  },
  {
   "cell_type": "markdown",
   "id": "85ba3b15",
   "metadata": {},
   "source": [
    "<h3>Q9. If a data is right skewed then what will be the position of median with respect to mean?"
   ]
  },
  {
   "cell_type": "markdown",
   "id": "9b234552",
   "metadata": {},
   "source": [
    "If a distribution is right-skewed (positively skewed), the mean will be greater than the median. "
   ]
  },
  {
   "cell_type": "markdown",
   "id": "70070112",
   "metadata": {},
   "source": [
    "<h3>Q10. Explain the difference between covariance and correlation. How are these measures used in\n",
    "statistical analysis?"
   ]
  },
  {
   "cell_type": "markdown",
   "id": "95875c56",
   "metadata": {},
   "source": [
    "Covariance measures the joint variability of two variables, while correlation measures the strength and direction of the linear relationship between two variables"
   ]
  },
  {
   "cell_type": "markdown",
   "id": "42ae39a6",
   "metadata": {},
   "source": [
    "<h3>Q11. What is the formula for calculating the sample mean? Provide an example calculation for a\n",
    "dataset."
   ]
  },
  {
   "cell_type": "markdown",
   "id": "c3d9006f",
   "metadata": {},
   "source": [
    "The formula for calculating the sample mean is:\n",
    "\n",
    "$$\\bar{x} = \\frac{1}{n}\\sum_{i=1}^{n}x_i$$\n",
    "\n",
    "where $\\bar{x}$ is the sample mean, $n$ is the sample size, and $x_i$ is the value of the $i^{th}$ observation in the sample.\n",
    "\n",
    "For example, let's say we have a sample of 5 observations: {2, 4, 6, 8, 10}. To calculate the sample mean, we would add up all the observations (2 + 4 + 6 + 8 + 10 = 30) and divide by the number of observations (5) to get a sample mean of 6."
   ]
  },
  {
   "cell_type": "markdown",
   "id": "f62b1d62",
   "metadata": {},
   "source": [
    "<h3>Q12. For a normal distribution data what is the relationship between its measure of central tendency?"
   ]
  },
  {
   "cell_type": "markdown",
   "id": "9a5c0c11",
   "metadata": {},
   "source": [
    "All (mean, median and mode) are equal"
   ]
  },
  {
   "cell_type": "markdown",
   "id": "26f44de6",
   "metadata": {},
   "source": [
    "<h3>Q13. How is covariance different from correlation?"
   ]
  },
  {
   "cell_type": "markdown",
   "id": "1831d1bc",
   "metadata": {},
   "source": [
    "covariance and correlation are both ways to measure how two variables are related to each other. Covariance tells you if the two variables move together or in opposite directions, but it doesn’t tell you how strong their relationship is. Correlation, on the other hand, tells you both if the two variables move together or in opposite directions and how strong their relationship is"
   ]
  },
  {
   "cell_type": "markdown",
   "id": "e4fe4680",
   "metadata": {},
   "source": [
    "<h3>Q14. How do outliers affect measures of central tendency and dispersion? Provide an example."
   ]
  },
  {
   "cell_type": "markdown",
   "id": "918fb4d1",
   "metadata": {},
   "source": [
    "Outliers are extreme values that can significantly affect measures of central tendency and dispersion.\n",
    "\n",
    "For example, let’s say we have a dataset of 10 observations: {2, 4, 6, 8, 10, 12, 14, 16, 18, 20}. The mean of this dataset is 11 and the standard deviation is 5.68.\n",
    "\n",
    "Now let’s say we add an outlier to the dataset: {2, 4, 6, 8, 10, 12, 14, 16, 18, 20, 100}. The mean of this new dataset is now 18.18 and the standard deviation is 27.46.\n",
    "\n",
    "As you can see, the addition of the outlier significantly increased both the mean and the standard deviation. This is because the mean is sensitive to extreme values and the standard deviation is a measure of how spread out the data is from the mean."
   ]
  }
 ],
 "metadata": {
  "kernelspec": {
   "display_name": "Python 3 (ipykernel)",
   "language": "python",
   "name": "python3"
  },
  "language_info": {
   "codemirror_mode": {
    "name": "ipython",
    "version": 3
   },
   "file_extension": ".py",
   "mimetype": "text/x-python",
   "name": "python",
   "nbconvert_exporter": "python",
   "pygments_lexer": "ipython3",
   "version": "3.9.13"
  }
 },
 "nbformat": 4,
 "nbformat_minor": 5
}
