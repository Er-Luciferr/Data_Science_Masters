{
 "cells": [
  {
   "cell_type": "markdown",
   "id": "add845fd",
   "metadata": {},
   "source": [
    "<h3>Q1: What are the Probability Mass Function (PMF) and Probability Density Function (PDF)? Explain with\n",
    "an example."
   ]
  },
  {
   "cell_type": "markdown",
   "id": "8e088e30",
   "metadata": {},
   "source": [
    "- The Probability Mass Function (PMF) is used for discrete random variables and gives the probability that the random variable takes on a specific value.\n",
    "<br>\n",
    "- The Probability Density Function (PDF) is used for continuous random variables and gives the relative likelihood of the random variable taking on a specific value, but is used to calculate the probability that the random variable falls within a certain range of values."
   ]
  },
  {
   "cell_type": "markdown",
   "id": "bfd8fa7d",
   "metadata": {},
   "source": [
    "<h3>Q2: What is Cumulative Density Function (CDF)? Explain with an example. Why CDF is used?"
   ]
  },
  {
   "cell_type": "markdown",
   "id": "920f71e9",
   "metadata": {},
   "source": [
    "- The Cumulative Distribution Function (CDF) is a function that describes the probability distribution of a random variable and gives the probability that the random variable is less than or equal to a specific value.\n",
    "- The CDF is used to calculate probabilities for ranges of values, percentiles, and other summary statistics for a distribution."
   ]
  },
  {
   "cell_type": "markdown",
   "id": "d930d7a8",
   "metadata": {},
   "source": [
    "<h3>Q3: What are some examples of situations where the normal distribution might be used as a model?\n",
    "Explain how the parameters of the normal distribution relate to the shape of the distribution."
   ]
  },
  {
   "cell_type": "markdown",
   "id": "f569e31f",
   "metadata": {},
   "source": [
    "- Measuring the heights or weights of a large population\n",
    "- Measuring the intelligence quotient (IQ) scores of a large population\n",
    "- Measuring the errors in a measurement or prediction\n",
    "- Modeling the returns on an investment\n",
    "\n",
    "The normal distribution has two parameters: the mean and the standard deviation. The mean determines the location of the center of the distribution, while the standard deviation determines the spread or dispersion of the distribution. A larger standard deviation results in a wider, flatter distribution, while a smaller standard deviation results in a narrower, more peaked distribution. The shape of the normal distribution is symmetric around the mean, with half of the data falling below the mean and half falling above it."
   ]
  },
  {
   "cell_type": "markdown",
   "id": "016ea560",
   "metadata": {},
   "source": [
    "<h3>Q4: Explain the importance of Normal Distribution. Give a few real-life examples of Normal\n",
    "Distribution."
   ]
  },
  {
   "cell_type": "markdown",
   "id": "936a92fe",
   "metadata": {},
   "source": [
    "The normal distribution is important in statistics and probability theory because it is a commonly occurring distribution in many natural and social phenomena. It is often used as a model for data that is symmetrically distributed around a central value.\n",
    "\n",
    "- Measuring the heights or weights of a large population\n",
    "- Measuring the intelligence quotient (IQ) scores of a large population\n",
    "- Measuring the errors in a measurement or prediction\n",
    "- Modeling the returns on an investment\n"
   ]
  },
  {
   "cell_type": "markdown",
   "id": "5f92f594",
   "metadata": {},
   "source": [
    "<h3>Q5: What is Bernaulli Distribution? Give an Example. What is the difference between Bernoulli\n",
    "Distribution and Binomial Distribution?"
   ]
  },
  {
   "cell_type": "markdown",
   "id": "4c29dbb5",
   "metadata": {},
   "source": [
    "- Bernoulli distribution is a discrete probability distribution that describes the outcome of a single experiment with two possible outcomes, success or failure, with a fixed probability of success.\n",
    "- An example of a Bernoulli distribution is the outcome of a single coin toss, where heads is considered success and tails is considered failure. If the coin is fair, the probability of success is 0.5.\n",
    "- The difference between Bernoulli distribution and binomial distribution is that Bernoulli distribution describes the outcome of a single experiment with two possible outcomes, while binomial distribution describes the number of successes in a fixed number of independent experiments, each with two possible outcomes and the same probability of success."
   ]
  },
  {
   "cell_type": "markdown",
   "id": "c2992c33",
   "metadata": {},
   "source": [
    "<h3>Q6. Consider a dataset with a mean of 50 and a standard deviation of 10. If we assume that the dataset\n",
    "is normally distributed, what is the probability that a randomly selected observation will be greater\n",
    "than 60? Use the appropriate formula and show your calculations."
   ]
  },
  {
   "cell_type": "code",
   "execution_count": 5,
   "id": "ab84d61e",
   "metadata": {},
   "outputs": [],
   "source": [
    "def zscore(x , mean , std ):\n",
    "    z = (x - mean)/std\n",
    "    return z"
   ]
  },
  {
   "cell_type": "code",
   "execution_count": 6,
   "id": "594a8368",
   "metadata": {},
   "outputs": [
    {
     "data": {
      "text/plain": [
       "1.0"
      ]
     },
     "execution_count": 6,
     "metadata": {},
     "output_type": "execute_result"
    }
   ],
   "source": [
    "zscore( 60 , 50 , 10)"
   ]
  },
  {
   "cell_type": "markdown",
   "id": "eba95983",
   "metadata": {},
   "source": [
    "value of 1 in z-table = 0.84134\n",
    "- probability of randomly selected observation greater than 60 is <b>84.13%"
   ]
  },
  {
   "cell_type": "markdown",
   "id": "b697cf1d",
   "metadata": {},
   "source": [
    "<h3>Q7: Explain uniform Distribution with an example."
   ]
  },
  {
   "cell_type": "markdown",
   "id": "b6b3d62e",
   "metadata": {},
   "source": [
    "- A uniform distribution is a probability distribution where all outcomes are equally likely. There are two types of uniform distributions: discrete and continuous.\n",
    "\n",
    "- A discrete uniform distribution is defined on a finite set of outcomes, where each outcome has an equal probability of occurring. For example, the outcome of rolling a fair six-sided die follows a discrete uniform distribution, where each of the possible outcomes (1, 2, 3, 4, 5, or 6) has a probability of 1/6.\n",
    "\n",
    "- A continuous uniform distribution is defined on a continuous interval, where any value within the interval is equally likely to occur. For example, if you randomly select a real number between 0 and 1, the probability of selecting any specific number within that interval is 0, but the probability of selecting a number within any subinterval of [0, 1] is equal to the length of that subinterval."
   ]
  },
  {
   "cell_type": "markdown",
   "id": "d92538b9",
   "metadata": {},
   "source": [
    "<h3>Q8: What is the z score? State the importance of the z score."
   ]
  },
  {
   "cell_type": "markdown",
   "id": "473b93a7",
   "metadata": {},
   "source": [
    "The z-score, also known as the standard score, is a measure of how many standard deviations a data point is from the mean of a distribution. It is calculated by subtracting the mean from the data point and then dividing by the standard deviation.\n",
    "\n",
    "The z-score is important because it allows us to compare data points from different distributions or to compare a data point to a population. By converting data points to z-scores, we can compare them on a common scale, even if the original distributions have different means and standard deviations. Z-scores are also used in hypothesis testing and in calculating confidence intervals."
   ]
  },
  {
   "cell_type": "markdown",
   "id": "0ab182a1",
   "metadata": {},
   "source": [
    "<h3>Q9: What is Central Limit Theorem? State the significance of the Central Limit Theorem."
   ]
  },
  {
   "cell_type": "markdown",
   "id": "b2334b9c",
   "metadata": {},
   "source": [
    "- The Central Limit Theorem is a fundamental result in probability theory that states that the distribution of the sample mean of a large number of independent and identically distributed random variables approaches a normal distribution, regardless of the shape of the original distribution.\n",
    "- The significance of the Central Limit Theorem is that it allows us to make inferences about the population mean using the sample mean, even if we do not know the shape of the population distribution. It also provides a theoretical basis for many statistical methods, including hypothesis testing and confidence intervals."
   ]
  },
  {
   "cell_type": "markdown",
   "id": "6e930895",
   "metadata": {},
   "source": [
    "<h3>Q10: State the assumptions of the Central Limit Theorem."
   ]
  },
  {
   "cell_type": "markdown",
   "id": "66cd8e4d",
   "metadata": {},
   "source": [
    "central limit theorem states that sampling distribution of the mean will always be norm ally distributed , regardless of whether the population is normal,poisson or binomial"
   ]
  }
 ],
 "metadata": {
  "kernelspec": {
   "display_name": "Python 3 (ipykernel)",
   "language": "python",
   "name": "python3"
  },
  "language_info": {
   "codemirror_mode": {
    "name": "ipython",
    "version": 3
   },
   "file_extension": ".py",
   "mimetype": "text/x-python",
   "name": "python",
   "nbconvert_exporter": "python",
   "pygments_lexer": "ipython3",
   "version": "3.9.13"
  }
 },
 "nbformat": 4,
 "nbformat_minor": 5
}
