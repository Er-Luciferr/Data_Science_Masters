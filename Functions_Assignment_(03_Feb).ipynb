{
 "cells": [
  {
   "cell_type": "markdown",
   "id": "455ca165",
   "metadata": {},
   "source": [
    "<h3>Q1. Which keyword is used to create a function? Create a function to return a list of odd numbers in the\n",
    "range of 1 to 25."
   ]
  },
  {
   "cell_type": "code",
   "execution_count": 9,
   "id": "66ddcfaf",
   "metadata": {},
   "outputs": [],
   "source": [
    "# Def keyword is used to create funtions\n",
    "def func(a):\n",
    "    l =[]\n",
    "    a = range(1,a)\n",
    "    for i in a:\n",
    "        if i%2 == 1:\n",
    "            l.append(i)\n",
    "    return l\n",
    "            "
   ]
  },
  {
   "cell_type": "code",
   "execution_count": 10,
   "id": "5a8c2bab",
   "metadata": {},
   "outputs": [
    {
     "data": {
      "text/plain": [
       "[1, 3, 5, 7, 9, 11, 13, 15, 17, 19, 21, 23]"
      ]
     },
     "execution_count": 10,
     "metadata": {},
     "output_type": "execute_result"
    }
   ],
   "source": [
    "func(25)"
   ]
  },
  {
   "cell_type": "markdown",
   "id": "821085b8",
   "metadata": {},
   "source": [
    "<h3>Q2. Why *args and **kwargs is used in some functions? Create a function each for *args and **kwargs to\n",
    "demonstrate their use."
   ]
  },
  {
   "cell_type": "markdown",
   "id": "5c6210fa",
   "metadata": {},
   "source": [
    "<h4>*args is used to pass a variable number of non-keyword arguments, while **kwargs is used to pass a variable number of keyword arguments."
   ]
  },
  {
   "cell_type": "code",
   "execution_count": 11,
   "id": "fcaedca4",
   "metadata": {},
   "outputs": [],
   "source": [
    "def test(*args):\n",
    "    a = 0\n",
    "    for x in args:\n",
    "        a += x\n",
    "    return a\n"
   ]
  },
  {
   "cell_type": "code",
   "execution_count": 12,
   "id": "602ec143",
   "metadata": {},
   "outputs": [
    {
     "data": {
      "text/plain": [
       "11"
      ]
     },
     "execution_count": 12,
     "metadata": {},
     "output_type": "execute_result"
    }
   ],
   "source": [
    "test(1,2,3,5)"
   ]
  },
  {
   "cell_type": "code",
   "execution_count": 14,
   "id": "26abd3e7",
   "metadata": {},
   "outputs": [],
   "source": [
    "def test_1(**kwargs):\n",
    "    for k, v in kwargs.items():\n",
    "        print(f\"{k}: {v}\")\n"
   ]
  },
  {
   "cell_type": "code",
   "execution_count": 21,
   "id": "0b3b19e6",
   "metadata": {},
   "outputs": [
    {
     "name": "stdout",
     "output_type": "stream",
     "text": [
      "a: animal\n",
      "b: dog\n",
      "c: pub\n"
     ]
    }
   ],
   "source": [
    "test_1(a ='animal', b='dog' ,c= 'pub')"
   ]
  },
  {
   "cell_type": "markdown",
   "id": "7427d902",
   "metadata": {},
   "source": [
    "<h3>Q3. What is an iterator in python? Name the method used to initialise the iterator object and the method\n",
    "used for iteration. Use these methods to print the first five elements of the given list [2, 4, 6, 8, 10, 12, 14, 16,\n",
    "18, 20]."
   ]
  },
  {
   "cell_type": "markdown",
   "id": "4cc53a28",
   "metadata": {},
   "source": [
    "An iterator is an object in Python that iterates over an iterable object such as a list or a string. The for loop  is used to iterate the iterator object. Here’s an example of how you can use these methods to print the first five elements of the given list:"
   ]
  },
  {
   "cell_type": "code",
   "execution_count": 3,
   "id": "4417b3e9",
   "metadata": {},
   "outputs": [
    {
     "name": "stdout",
     "output_type": "stream",
     "text": [
      "2\n",
      "4\n",
      "6\n",
      "8\n",
      "10\n"
     ]
    }
   ],
   "source": [
    "l = [2, 4, 6, 8, 10, 12, 14, 16, 18, 20]\n",
    "my_iterator = iter(l)\n",
    "for i in range(5):\n",
    "    print(next(my_iterator))"
   ]
  },
  {
   "cell_type": "markdown",
   "id": "3bba16e6",
   "metadata": {},
   "source": [
    "<h3>Q4. What is a generator function in python? Why yield keyword is used? Give an example of a generator\n",
    "function."
   ]
  },
  {
   "cell_type": "markdown",
   "id": "e347ab67",
   "metadata": {},
   "source": [
    "A generator function in Python is a special type of function that returns an iterator. It uses the yield keyword to return values one at a time instead of returning all the values at once. This allows the generator function to produce a potentially infinite sequence of values without using up all the memory. Here’s an example of a simple generator function that generates the first n even numbers:\n"
   ]
  },
  {
   "cell_type": "code",
   "execution_count": 4,
   "id": "4758de98",
   "metadata": {},
   "outputs": [
    {
     "name": "stdout",
     "output_type": "stream",
     "text": [
      "0\n",
      "2\n",
      "4\n",
      "6\n",
      "8\n"
     ]
    }
   ],
   "source": [
    "def generate_even_numbers(n):\n",
    "    i = 0\n",
    "    while i < n:\n",
    "        yield i * 2\n",
    "        i += 1\n",
    "\n",
    "for num in generate_even_numbers(5):\n",
    "    print(num)"
   ]
  },
  {
   "cell_type": "markdown",
   "id": "2f9aa34e",
   "metadata": {},
   "source": [
    "<h3>Q5. Create a generator function for prime numbers less than 1000. Use the next() method to print the\n",
    "first 20 prime numbers."
   ]
  },
  {
   "cell_type": "code",
   "execution_count": null,
   "id": "68ad28f6",
   "metadata": {},
   "outputs": [],
   "source": []
  },
  {
   "cell_type": "code",
   "execution_count": null,
   "id": "f92d7751",
   "metadata": {},
   "outputs": [],
   "source": []
  },
  {
   "cell_type": "code",
   "execution_count": null,
   "id": "2c748fd1",
   "metadata": {},
   "outputs": [],
   "source": []
  },
  {
   "cell_type": "code",
   "execution_count": null,
   "id": "bcc42bac",
   "metadata": {},
   "outputs": [],
   "source": []
  }
 ],
 "metadata": {
  "kernelspec": {
   "display_name": "Python 3 (ipykernel)",
   "language": "python",
   "name": "python3"
  },
  "language_info": {
   "codemirror_mode": {
    "name": "ipython",
    "version": 3
   },
   "file_extension": ".py",
   "mimetype": "text/x-python",
   "name": "python",
   "nbconvert_exporter": "python",
   "pygments_lexer": "ipython3",
   "version": "3.9.13"
  }
 },
 "nbformat": 4,
 "nbformat_minor": 5
}
