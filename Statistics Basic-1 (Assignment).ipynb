{
 "cells": [
  {
   "cell_type": "markdown",
   "id": "61a89869",
   "metadata": {},
   "source": [
    "<h3>Q1. What is Statistics?"
   ]
  },
  {
   "cell_type": "markdown",
   "id": "5378ad19",
   "metadata": {},
   "source": [
    "Answer :- Statistics is a science of collecting , organizing and analyzing data."
   ]
  },
  {
   "cell_type": "markdown",
   "id": "ab446f85",
   "metadata": {},
   "source": [
    "<h3>Q2. Define the different types of statistics and give an example of when each type might be used."
   ]
  },
  {
   "cell_type": "markdown",
   "id": "6b352c71",
   "metadata": {},
   "source": [
    "1) Descriptive - It consist of organizing and summarizing data \n",
    "<br>\n",
    "<br>2) Inferential - It is used to measure data and form conclusions"
   ]
  },
  {
   "cell_type": "markdown",
   "id": "b1f36d34",
   "metadata": {},
   "source": [
    "<h3>Q3. What are the different types of data and how do they differ from each other? Provide an example of\n",
    "each type of data."
   ]
  },
  {
   "cell_type": "markdown",
   "id": "066c25ac",
   "metadata": {},
   "source": [
    "1) Qualitative data\n",
    "<br> .....i) Nominal data\n",
    "<br> ....ii) Ordinal data\n",
    "<br>2) Quantitative data\n",
    "<br> .....i) Continous data\n",
    "<br> ....ii) Discrete data"
   ]
  },
  {
   "cell_type": "markdown",
   "id": "ee2083e9",
   "metadata": {},
   "source": [
    "<h3>Q4. Categorise the following datasets with respect to quantitative and qualitative data types:\n",
    "<br>(i) Grading in exam: A+, A, B+, B, C+, C, D, E\n",
    "<br>(ii) Colour of mangoes: yellow, green, orange, red\n",
    "<br>(iii) Height data of a class: [178.9, 179, 179.5, 176, 177.2, 178.3, 175.8,...]\n",
    "<br>(iv) Number of mangoes exported by a farm: [500, 600, 478, 672, ...]"
   ]
  },
  {
   "cell_type": "markdown",
   "id": "1ee01e8d",
   "metadata": {},
   "source": [
    "<h4>Answer :- <br>\n",
    "\n",
    "| Quantitative | Qualitative |\n",
    "|--------------|-------------|\n",
    "|(iii)Continous| (i) Ordinal |\n",
    "|(iv)Discrete  |(ii) Nominal |\n"
   ]
  },
  {
   "cell_type": "markdown",
   "id": "25c04ef4",
   "metadata": {},
   "source": [
    "<h3>Q5. Explain the concept of levels of measurement and give an example of a variable for each level."
   ]
  },
  {
   "cell_type": "markdown",
   "id": "a3dced06",
   "metadata": {},
   "source": [
    "Levels of measurement, also called scales of measurement, tell you how precisely variables are recorded. There are 4 levels of measurement: Nominal, Ordinal, Interval, and Ratio . For example, the “Gender” variable is measured on a nominal scale, “Language ability” on an ordinal scale, “Temperature in Fahrenheit or Celsius” on an interval scale, and “Age” on a ratio scale"
   ]
  },
  {
   "cell_type": "markdown",
   "id": "a7aeee46",
   "metadata": {},
   "source": [
    "<h3>Q6. Why is it important to understand the level of measurement when analyzing data? Provide an\n",
    "example to illustrate your answer."
   ]
  },
  {
   "cell_type": "markdown",
   "id": "9aa0f6ea",
   "metadata": {},
   "source": [
    "It is important to understand the level of measurement when analyzing data because it determines how precisely a variable has been measured and how it can be analyzed. The level of measurement indicates the extent to which statisticians can use existing data, which descriptive and inferential statistics they can apply, and what kind of insights they can obtain . For example, if you classify your data at the ordinal level of measurement, you know that you can evaluate how items compare to each other based on a specific hierarchy"
   ]
  },
  {
   "cell_type": "markdown",
   "id": "3836ae20",
   "metadata": {},
   "source": [
    "<h3>Q7. How nominal data type is different from ordinal data type."
   ]
  },
  {
   "cell_type": "markdown",
   "id": "4fe5fb3a",
   "metadata": {},
   "source": [
    "In Nominal data, order of data doesn't matter (Non-rank) while in Ordinal data, rank is the primary requirement."
   ]
  },
  {
   "cell_type": "markdown",
   "id": "608b794b",
   "metadata": {},
   "source": [
    "<h3>Q8. Which type of plot can be used to display data in terms of range?"
   ]
  },
  {
   "cell_type": "markdown",
   "id": "b2f31134",
   "metadata": {},
   "source": [
    "<h4>BOX- PLOT"
   ]
  },
  {
   "cell_type": "markdown",
   "id": "806fc2cb",
   "metadata": {},
   "source": [
    "<h3>Q9. Describe the difference between descriptive and inferential statistics. Give an example of each\n",
    "type of statistics and explain how they are used."
   ]
  },
  {
   "cell_type": "markdown",
   "id": "3c5f7f5e",
   "metadata": {},
   "source": [
    "1)Descriptive statistics summarize and describe the main features of a dataset using measures such as mean, median, and standard deviation.\n",
    "<br>2)Inferential statistics use sample data to make inferences and draw conclusions about a larger population."
   ]
  },
  {
   "cell_type": "markdown",
   "id": "003a4dd7",
   "metadata": {},
   "source": [
    "<h3>Q10. What are some common measures of central tendency and variability used in statistics? Explain\n",
    "how each measure can be used to describe a dataset."
   ]
  },
  {
   "cell_type": "markdown",
   "id": "fae8ee44",
   "metadata": {},
   "source": [
    "1) Common measures of central tendency include the mean, median, and mode, which describe the center or middle of a dataset.\n",
    "<br>2) Common measures of variability include the range, interquartile range, variance, and standard deviation, which describe the spread or dispersion of a dataset.\n",
    "<br>3) Together, measures of central tendency and variability provide a complete picture of a dataset, allowing us to understand its main features and characteristics."
   ]
  }
 ],
 "metadata": {
  "kernelspec": {
   "display_name": "Python 3 (ipykernel)",
   "language": "python",
   "name": "python3"
  },
  "language_info": {
   "codemirror_mode": {
    "name": "ipython",
    "version": 3
   },
   "file_extension": ".py",
   "mimetype": "text/x-python",
   "name": "python",
   "nbconvert_exporter": "python",
   "pygments_lexer": "ipython3",
   "version": "3.9.13"
  }
 },
 "nbformat": 4,
 "nbformat_minor": 5
}
