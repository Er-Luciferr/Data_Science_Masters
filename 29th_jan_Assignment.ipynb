{
 "cells": [
  {
   "cell_type": "markdown",
   "id": "9bf10137",
   "metadata": {},
   "source": [
    "<h3>1) Who developed Python Programmimg Langauge?\n"
   ]
  },
  {
   "cell_type": "markdown",
   "id": "7a085c82",
   "metadata": {},
   "source": [
    "<h4>Python was created by Guido van Rossum, a Dutch programmer. \n",
    "    \n",
    "    "
   ]
  },
  {
   "cell_type": "markdown",
   "id": "aa4ab28c",
   "metadata": {},
   "source": [
    "<h3>2) Which type of Programming does Python support?\n"
   ]
  },
  {
   "cell_type": "markdown",
   "id": "ca6ba17e",
   "metadata": {},
   "source": [
    "<h4>Python supports several programming paradigms, including procedural, object-oriented, functional, and imperative programming"
   ]
  },
  {
   "cell_type": "markdown",
   "id": "c2beb91e",
   "metadata": {},
   "source": [
    "<h3>3) Is Python case sensitive when dealing with identifiers?\n"
   ]
  },
  {
   "cell_type": "markdown",
   "id": "dab1a70c",
   "metadata": {},
   "source": [
    "<h4>Yes"
   ]
  },
  {
   "cell_type": "markdown",
   "id": "266d003a",
   "metadata": {},
   "source": [
    "<h3>4) What is the correct extension of the Python file?\n"
   ]
  },
  {
   "cell_type": "markdown",
   "id": "e5c45567",
   "metadata": {},
   "source": [
    "<h4> .py"
   ]
  },
  {
   "cell_type": "markdown",
   "id": "c05df462",
   "metadata": {},
   "source": [
    "<h3>5)Is Python code compiled or interpreted?\n"
   ]
  },
  {
   "cell_type": "markdown",
   "id": "c21521c3",
   "metadata": {},
   "source": [
    "<h4> Interpreted"
   ]
  },
  {
   "cell_type": "markdown",
   "id": "915c3780",
   "metadata": {},
   "source": [
    "<h3>6) Name a few blocks of code used to define in Python language?\n"
   ]
  },
  {
   "cell_type": "markdown",
   "id": "726e3d25",
   "metadata": {},
   "source": [
    "<h4> \n",
    "    \n",
    "* if statements: used to conditionally execute a block of code\n",
    "    \n",
    "    \n",
    "* for loops: used to iterate over a sequence and execute a block of code for each element\n",
    "    \n",
    "    \n",
    "* while loops: used to repeatedly execute a block of code while a condition is true\n",
    "    \n",
    "    \n",
    "* def statements: used to define a function and its associated block of code\n"
   ]
  },
  {
   "cell_type": "markdown",
   "id": "fcbd23a7",
   "metadata": {},
   "source": [
    "<h3>7) State a character used to give single line comments in Python\n"
   ]
  },
  {
   "cell_type": "markdown",
   "id": "ed4073f3",
   "metadata": {},
   "source": [
    "<h4> '#' character is used to give single-line comments"
   ]
  },
  {
   "cell_type": "markdown",
   "id": "99a0b03c",
   "metadata": {},
   "source": [
    "<h3>8) Mention functions which can helps us to find the version of python that we are currently working on?\n"
   ]
  },
  {
   "cell_type": "markdown",
   "id": "55a08f81",
   "metadata": {},
   "source": [
    "<h4>One way is to use the sys module and its version_info attribute"
   ]
  },
  {
   "cell_type": "markdown",
   "id": "d1b533f3",
   "metadata": {},
   "source": [
    "<h3>9) Python supports the creation od anonymous functiom at runtime using a construct called\n"
   ]
  },
  {
   "cell_type": "markdown",
   "id": "ff9c2aea",
   "metadata": {},
   "source": [
    "<h4>lambda function"
   ]
  },
  {
   "cell_type": "markdown",
   "id": "943af3ac",
   "metadata": {},
   "source": [
    "<h3>10) What does pip stand for Python?\n"
   ]
  },
  {
   "cell_type": "markdown",
   "id": "1a2513bd",
   "metadata": {},
   "source": [
    "<h4>\"Pip Installs Packages” or “Pip Installs Python”"
   ]
  },
  {
   "cell_type": "markdown",
   "id": "7a91e2c5",
   "metadata": {},
   "source": [
    "<h3>11) Mention a few built in function in Python?\n"
   ]
  },
  {
   "cell_type": "markdown",
   "id": "c80e3851",
   "metadata": {},
   "source": [
    "<h4>\n",
    "    \n",
    "* print: used to output text or other data to the console\n",
    "    \n",
    "    \n",
    "* input: used to read input from the user\n",
    "    \n",
    "    \n",
    "* len: used to get the length of a sequence (such as a string, list, or tuple) or a collection (such as a dictionary or set)\n",
    "    \n",
    "    \n",
    "* int: used to convert a value to an integer\n",
    "    \n",
    "    \n",
    "* str: used to convert a value to a string\n",
    "    \n",
    "    \n",
    "* list: used to create a new list or convert an iterable into a list\n",
    "    \n",
    "    \n",
    "* tuple: used to create a new tuple or convert an iterable into a tuple\n",
    "    \n",
    "    \n",
    "* dict: used to create a new dictionary or convert a sequence of key-value pairs into a dictionary\n",
    "    \n",
    "    \n",
    "* set: used to create a new set or convert an iterable into a set\n",
    "    \n",
    "    \n",
    "* range: used to generate a sequence of numbers\n",
    "    \n",
    "    \n",
    "* type: used to get the type of an object"
   ]
  },
  {
   "cell_type": "markdown",
   "id": "b4518b6f",
   "metadata": {},
   "source": [
    "<h3>12) What is the maximum possible length af an identifier in Python?\n"
   ]
  },
  {
   "cell_type": "markdown",
   "id": "57eff849",
   "metadata": {},
   "source": [
    "<h4>79 characters"
   ]
  },
  {
   "cell_type": "markdown",
   "id": "30028f74",
   "metadata": {},
   "source": [
    "<h3>13) What are the benifits of using Python?\n"
   ]
  },
  {
   "cell_type": "markdown",
   "id": "f61eb92f",
   "metadata": {},
   "source": [
    "<h4>Python is a powerful and versatile programming language that is widely used in many applications. Some of the benefits of using Python include its extensibility, its large collection of libraries, its supportive community, and its ease of learning."
   ]
  },
  {
   "cell_type": "markdown",
   "id": "fe635710",
   "metadata": {},
   "source": [
    "<h3>14) How is memory managed in Python?\n"
   ]
  },
  {
   "cell_type": "markdown",
   "id": "97c42ccc",
   "metadata": {},
   "source": [
    "<h4>Memory management in Python involves a private heap containing all Python objects and data structures."
   ]
  },
  {
   "cell_type": "markdown",
   "id": "555b7b2a",
   "metadata": {},
   "source": [
    "<h3>15) How to install Python on Windows and set path variables?\n"
   ]
  },
  {
   "cell_type": "markdown",
   "id": "6c34155c",
   "metadata": {},
   "source": [
    "<h4>To install Python on Windows, you can download the latest version of Python from the official website at https://www.python.org/downloads/windows/. During the installation process, you can check the box to “Add Python to PATH” at the bottom of the setup screen1. If you didn’t check this box during installation, you can still add Python to your PATH variable manually. To do this, you need to find the directory where your Python executable lives. Once you have found it, you can add it to your PATH variable by right-clicking on “This PC” and selecting “Properties”. Then click on “Advanced system settings” and select the “Advanced” tab. Click on “Environment Variables” and under “System Variables”, find and select “Path” and click on “Edit”. In the “Edit environment variable” window, click on “New” and paste in the path to your Python executable"
   ]
  },
  {
   "cell_type": "markdown",
   "id": "d053192d",
   "metadata": {},
   "source": [
    "."
   ]
  },
  {
   "cell_type": "markdown",
   "id": "41857787",
   "metadata": {},
   "source": [
    "<h3>16) Is identation required in Python?"
   ]
  },
  {
   "cell_type": "markdown",
   "id": "543d5c80",
   "metadata": {},
   "source": [
    "<h4>YES!!!!!!"
   ]
  },
  {
   "cell_type": "code",
   "execution_count": null,
   "id": "eca2aac8",
   "metadata": {},
   "outputs": [],
   "source": [
    "            "
   ]
  },
  {
   "cell_type": "code",
   "execution_count": null,
   "id": "9b5bdb96",
   "metadata": {},
   "outputs": [],
   "source": []
  }
 ],
 "metadata": {
  "kernelspec": {
   "display_name": "Python 3 (ipykernel)",
   "language": "python",
   "name": "python3"
  },
  "language_info": {
   "codemirror_mode": {
    "name": "ipython",
    "version": 3
   },
   "file_extension": ".py",
   "mimetype": "text/x-python",
   "name": "python",
   "nbconvert_exporter": "python",
   "pygments_lexer": "ipython3",
   "version": "3.9.13"
  }
 },
 "nbformat": 4,
 "nbformat_minor": 5
}
