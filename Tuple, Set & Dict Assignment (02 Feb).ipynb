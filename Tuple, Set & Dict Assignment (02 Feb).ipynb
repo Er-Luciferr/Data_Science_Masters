{
 "cells": [
  {
   "cell_type": "markdown",
   "id": "79bd3d5f",
   "metadata": {},
   "source": [
    "<h2>Q1. What are the characteristics of the tuples? Is tuple immutable?\n",
    "</h>"
   ]
  },
  {
   "cell_type": "markdown",
   "id": "0cbf75ce",
   "metadata": {},
   "source": [
    "Answer :- \n",
    "\n",
    "*) They are indexed.\n",
    "\n",
    "*) Tuples are ordered.\n",
    "\n",
    "*) They are immutable.\n",
    "\n",
    "*) They can contain duplicate items. \n",
    "\n"
   ]
  },
  {
   "cell_type": "code",
   "execution_count": 16,
   "id": "7d199bdc",
   "metadata": {},
   "outputs": [],
   "source": [
    "x = ('Data','Science','Masters','Masters',2023, ['assignment','02 Feb'])"
   ]
  },
  {
   "cell_type": "code",
   "execution_count": 85,
   "id": "0170edc2",
   "metadata": {},
   "outputs": [
    {
     "data": {
      "text/plain": [
       "tuple"
      ]
     },
     "execution_count": 85,
     "metadata": {},
     "output_type": "execute_result"
    }
   ],
   "source": [
    "type(x)"
   ]
  },
  {
   "cell_type": "markdown",
   "id": "d50ebed3",
   "metadata": {},
   "source": [
    "<h2>Q2. What are the two tuple methods in python? Give an example of each method. Give a reason why \n",
    "tuples have only two in-built methods as compared to Lists.\n",
    "</h>"
   ]
  },
  {
   "cell_type": "markdown",
   "id": "cb8af11d",
   "metadata": {},
   "source": [
    "<h3>Answer:-</h>"
   ]
  },
  {
   "cell_type": "markdown",
   "id": "80dc583d",
   "metadata": {},
   "source": [
    "There are 2 method .\n",
    "*) .count() - Return number of occurrences of value\n",
    "eg:- "
   ]
  },
  {
   "cell_type": "code",
   "execution_count": 86,
   "id": "06a8c698",
   "metadata": {},
   "outputs": [
    {
     "data": {
      "text/plain": [
       "2"
      ]
     },
     "execution_count": 86,
     "metadata": {},
     "output_type": "execute_result"
    }
   ],
   "source": [
    "x.count('Masters')"
   ]
  },
  {
   "cell_type": "markdown",
   "id": "abf0cfb6",
   "metadata": {},
   "source": [
    "*) .index() - Return first index of value\n",
    "eg :- "
   ]
  },
  {
   "cell_type": "code",
   "execution_count": 87,
   "id": "1ec668d8",
   "metadata": {},
   "outputs": [
    {
     "data": {
      "text/plain": [
       "4"
      ]
     },
     "execution_count": 87,
     "metadata": {},
     "output_type": "execute_result"
    }
   ],
   "source": [
    "x.index(2023)"
   ]
  },
  {
   "cell_type": "markdown",
   "id": "fa7f4f4d",
   "metadata": {},
   "source": [
    "<h2>Q3.  Which collection datatypes in python do not allow duplicate items? Write a code using a set to remove \n",
    "duplicates from the given list.\n",
    "\n",
    "\n",
    "List = [1, 1, 1, 2, 1, 3, 1, 4, 2, 1, 2, 2, 2, 3, 2, 4, 3, 1, 3, 2, 3, 3, 3, 4, 4, 1, 4, 2, 4, 3, 4, 4]\n",
    "</h2>"
   ]
  },
  {
   "cell_type": "markdown",
   "id": "dac90684",
   "metadata": {},
   "source": [
    "<h3>Answer:-<h>"
   ]
  },
  {
   "cell_type": "markdown",
   "id": "63b0052c",
   "metadata": {},
   "source": [
    "SET is datatypes which don't allow duplicate items."
   ]
  },
  {
   "cell_type": "code",
   "execution_count": 88,
   "id": "0ded7f2b",
   "metadata": {},
   "outputs": [],
   "source": [
    "set = {1, 1, 1, 2, 1, 3, 1, 4, 2, 1, 2, 2, 2, 3, 2, 4, 3, 1, 3, 2, 3, 3, 3, 4, 4, 1, 4, 2, 4, 3, 4, 4}"
   ]
  },
  {
   "cell_type": "code",
   "execution_count": 89,
   "id": "efc1151d",
   "metadata": {},
   "outputs": [
    {
     "data": {
      "text/plain": [
       "{1, 2, 3, 4}"
      ]
     },
     "execution_count": 89,
     "metadata": {},
     "output_type": "execute_result"
    }
   ],
   "source": [
    "set"
   ]
  },
  {
   "cell_type": "markdown",
   "id": "8a5ed17f",
   "metadata": {},
   "source": [
    "<h2>Q4. Explain the difference between the union() and update() methods for a set. Give an example of \n",
    "each method.\n",
    "</h>"
   ]
  },
  {
   "cell_type": "markdown",
   "id": "20cce5a1",
   "metadata": {},
   "source": [
    "<h3>Answer</h>"
   ]
  },
  {
   "cell_type": "markdown",
   "id": "a6a9fadb",
   "metadata": {},
   "source": [
    "*) .union() - Return the union of sets as a new set."
   ]
  },
  {
   "cell_type": "code",
   "execution_count": 90,
   "id": "faa827ca",
   "metadata": {},
   "outputs": [
    {
     "data": {
      "text/plain": [
       "{1, 2, 3, 4}"
      ]
     },
     "execution_count": 90,
     "metadata": {},
     "output_type": "execute_result"
    }
   ],
   "source": [
    "set.union()"
   ]
  },
  {
   "cell_type": "markdown",
   "id": "f4d51fcc",
   "metadata": {},
   "source": [
    "*) .update() - Update a set with the union of itself and others"
   ]
  },
  {
   "cell_type": "code",
   "execution_count": 91,
   "id": "fa9d26d7",
   "metadata": {},
   "outputs": [],
   "source": [
    "set.update('HelloWorld007')"
   ]
  },
  {
   "cell_type": "code",
   "execution_count": 92,
   "id": "6a9bf31f",
   "metadata": {},
   "outputs": [
    {
     "data": {
      "text/plain": [
       "{'0', 1, 2, 3, 4, '7', 'H', 'W', 'd', 'e', 'l', 'o', 'r'}"
      ]
     },
     "execution_count": 92,
     "metadata": {},
     "output_type": "execute_result"
    }
   ],
   "source": [
    "set"
   ]
  },
  {
   "cell_type": "markdown",
   "id": "6c9c86ad",
   "metadata": {},
   "source": [
    "<h2>Q5. What is a dictionary? Give an example. Also, state whether a dictionary is ordered or unordered.\n"
   ]
  },
  {
   "cell_type": "markdown",
   "id": "04acb754",
   "metadata": {},
   "source": [
    "<h3> Answer"
   ]
  },
  {
   "cell_type": "markdown",
   "id": "b55d1f3c",
   "metadata": {},
   "source": [
    "A dictionary is a collection of key-value pairs, where each key is associated with a value. Dictionaries are ordered in Python 3.9.13. \n",
    "Here is an example of a dictionary in Python:"
   ]
  },
  {
   "cell_type": "code",
   "execution_count": 93,
   "id": "5ca1d445",
   "metadata": {},
   "outputs": [],
   "source": [
    "dict={\n",
    "  \"brand\": \"Ford\",\n",
    "  \"model\": \"Mustang\",\n",
    "  \"year\": 1964\n",
    "}"
   ]
  },
  {
   "cell_type": "code",
   "execution_count": 94,
   "id": "e0a5a93a",
   "metadata": {},
   "outputs": [
    {
     "data": {
      "text/plain": [
       "dict"
      ]
     },
     "execution_count": 94,
     "metadata": {},
     "output_type": "execute_result"
    }
   ],
   "source": [
    "type(dict)"
   ]
  },
  {
   "cell_type": "markdown",
   "id": "7f637b6d",
   "metadata": {},
   "source": [
    "<h2>Q6. Can we create a nested dictionary? If so, please give an example by creating a simple one-level \n",
    "nested dictionary.\n"
   ]
  },
  {
   "cell_type": "markdown",
   "id": "449a6e8b",
   "metadata": {},
   "source": [
    "<h3>Answer"
   ]
  },
  {
   "cell_type": "markdown",
   "id": "f7ff0d43",
   "metadata": {},
   "source": [
    "YES we can create a nested dictionary.\n",
    "Eg:-"
   ]
  },
  {
   "cell_type": "code",
   "execution_count": 95,
   "id": "d273ef20",
   "metadata": {},
   "outputs": [],
   "source": [
    "dict_1 = {\n",
    "  \"brand\": \"Ford\",\n",
    "  \"model\": \"Mustang\",\n",
    "  \"year\": 1964,\n",
    "  \"colors\": {\n",
    "    \"color1\": \"red\",\n",
    "    \"color2\": \"blue\",\n",
    "    \"color3\": \"green\"\n",
    "  }\n",
    "}"
   ]
  },
  {
   "cell_type": "code",
   "execution_count": 96,
   "id": "69ef59bf",
   "metadata": {},
   "outputs": [
    {
     "data": {
      "text/plain": [
       "{'brand': 'Ford',\n",
       " 'model': 'Mustang',\n",
       " 'year': 1964,\n",
       " 'colors': {'color1': 'red', 'color2': 'blue', 'color3': 'green'}}"
      ]
     },
     "execution_count": 96,
     "metadata": {},
     "output_type": "execute_result"
    }
   ],
   "source": [
    "dict_1"
   ]
  },
  {
   "cell_type": "markdown",
   "id": "b664b2dd",
   "metadata": {},
   "source": [
    "<h2>Q7. Using setdefault() method, create key named topics in the given dictionary and also add the value of \n",
    "the key as this list ['Python', 'Machine Learning’, 'Deep Learning']\n",
    "\n",
    "\n",
    "dict1 = {'language' : 'Python', 'course': 'Data Science Masters'}\n"
   ]
  },
  {
   "cell_type": "markdown",
   "id": "e2ad38b1",
   "metadata": {},
   "source": [
    "<h3>Answer"
   ]
  },
  {
   "cell_type": "code",
   "execution_count": 97,
   "id": "67f7f2a6",
   "metadata": {},
   "outputs": [
    {
     "data": {
      "text/plain": [
       "['Python', 'Machine Learning', 'Deep Learning']"
      ]
     },
     "execution_count": 97,
     "metadata": {},
     "output_type": "execute_result"
    }
   ],
   "source": [
    "dict1 = {'language' : 'Python', 'course': 'Data Science Masters'}\n",
    "dict1.setdefault('topics', ['Python', 'Machine Learning', 'Deep Learning'])"
   ]
  },
  {
   "cell_type": "markdown",
   "id": "49aec14b",
   "metadata": {},
   "source": [
    "<h2>Q8. What are the three view objects in dictionaries? Use the three in-built methods in python to display \n",
    "these three view objects for the given dictionary.\n",
    "\n",
    "\n",
    "dict1 = {'Sport': 'Cricket' , 'Teams': ['India', 'Australia', 'England', 'South Africa', 'Sri Lanka', 'New Zealand']}"
   ]
  },
  {
   "cell_type": "markdown",
   "id": "fd5f6c77",
   "metadata": {},
   "source": [
    "<h3>Answer"
   ]
  },
  {
   "cell_type": "code",
   "execution_count": 102,
   "id": "e52bb13d",
   "metadata": {},
   "outputs": [
    {
     "name": "stdout",
     "output_type": "stream",
     "text": [
      "dict_keys(['Sport', 'Teams'])\n",
      "\n",
      "dict_values(['Cricket', ['India', 'Australia', 'England', 'South Africa', 'Sri Lanka', 'New Zealand']])\n",
      "\n",
      "dict_items([('Sport', 'Cricket'), ('Teams', ['India', 'Australia', 'England', 'South Africa', 'Sri Lanka', 'New Zealand'])])\n"
     ]
    }
   ],
   "source": [
    "\n",
    "dict1 = {'Sport': 'Cricket' , 'Teams': ['India', 'Australia', 'England', 'South Africa', 'Sri Lanka', 'New Zealand']}\n",
    "print(dict1.keys(), end= '\\n\\n')\n",
    "print(dict1.values(), end= '\\n\\n')\n",
    "print(dict1.items())"
   ]
  },
  {
   "cell_type": "code",
   "execution_count": null,
   "id": "f2451897",
   "metadata": {},
   "outputs": [],
   "source": []
  }
 ],
 "metadata": {
  "kernelspec": {
   "display_name": "Python 3 (ipykernel)",
   "language": "python",
   "name": "python3"
  },
  "language_info": {
   "codemirror_mode": {
    "name": "ipython",
    "version": 3
   },
   "file_extension": ".py",
   "mimetype": "text/x-python",
   "name": "python",
   "nbconvert_exporter": "python",
   "pygments_lexer": "ipython3",
   "version": "3.9.13"
  }
 },
 "nbformat": 4,
 "nbformat_minor": 5
}
