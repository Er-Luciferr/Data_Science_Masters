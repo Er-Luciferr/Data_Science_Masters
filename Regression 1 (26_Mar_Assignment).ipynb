{
 "cells": [
  {
   "cell_type": "markdown",
   "id": "6addf281",
   "metadata": {},
   "source": [
    "### Q1. Explain the difference between simple linear regression and multiple linear regression. Provide an example of each.\n"
   ]
  },
  {
   "cell_type": "markdown",
   "id": "978f339f",
   "metadata": {},
   "source": [
    "<h3><b>Simple linear regression</b></h3> is a type of regression model that assumes a linear relationship between one independent variable and one dependent variable. The goal is to find the best-fit line that describes how the dependent variable changes as the independent variable changes. \n",
    "For example, we can use simple linear regression to model, \n",
    "\n",
    "- How the height of a child depends on their age. \n",
    "- how the fuel efficiency of a car depends on its speed.\n",
    "\n",
    "<br>\n",
    "<h3><b>Multiple linear regression</b></h3> is a type of regression model that extends simple linear regression to include more than one independent variable. The goal is to find the best-fit hyperplane that describes how the dependent variable changes as the independent variables change. \n",
    "For example, we can use multiple linear regression to model,\n",
    "\n",
    "- How the price of a house depends on its size, location, number of bedrooms, and other features.\n",
    "- How the blood pressure of a patient depends on their age, weight, cholesterol level, and other factors.\n"
   ]
  },
  {
   "cell_type": "markdown",
   "id": "6c788f86",
   "metadata": {},
   "source": [
    "### Q2. Discuss the assumptions of linear regression. How can you check whether these assumptions hold in a given dataset?\n"
   ]
  },
  {
   "cell_type": "markdown",
   "id": "829ab272",
   "metadata": {},
   "source": [
    " Linear regression assumes that the relationship between the dependent and independent variables is linear, that the independent variables are not correlated with each other, that the errors are normally distributed and have constant variance, and that there are no outliers or influential points. These assumptions can be checked by using various diagnostic plots and tests, such as scatterplots, residual plots."
   ]
  },
  {
   "cell_type": "markdown",
   "id": "97a79eec",
   "metadata": {},
   "source": [
    "### Q3. How do you interpret the slope and intercept in a linear regression model? Provide an example using a real-world scenario.\n"
   ]
  },
  {
   "cell_type": "markdown",
   "id": "1f71a425",
   "metadata": {},
   "source": [
    "The slope and intercept in a linear regression model are the coefficients that describe the relationship between the independent variable (x) and the dependent variable (y). The slope indicates the rate of change of y with respect to x, while the intercept indicates the value of y when x is zero. \n",
    "\n",
    "For example, suppose we have a linear regression model that predicts the height (y) of a person based on their age (x). The equation of the model is:\n",
    "\n",
    "$$y = 50 + 5x$$\n",
    "\n",
    "The slope of this model is 5, which means that for every year increase in age, the height increases by 5 cm. The intercept of this model is 50, which means that the predicted height of a person at age zero is 50 cm."
   ]
  },
  {
   "cell_type": "markdown",
   "id": "5d1cfd7c",
   "metadata": {},
   "source": [
    "### Q4. Explain the concept of gradient descent. How is it used in machine learning?\n"
   ]
  },
  {
   "cell_type": "markdown",
   "id": "73349834",
   "metadata": {},
   "source": [
    "Gradient descent is an optimization algorithm that finds the minimum of a function by iteratively moving in the opposite direction of the gradient (the slope of the function) at the current point. It is used in machine learning to find the optimal parameters of a model that minimize the cost function (the difference between the predicted and actual values). "
   ]
  },
  {
   "cell_type": "markdown",
   "id": "a39042db",
   "metadata": {},
   "source": [
    "### Q5. Describe the multiple linear regression model. How does it differ from simple linear regression?\n"
   ]
  },
  {
   "cell_type": "markdown",
   "id": "d635b7ab",
   "metadata": {},
   "source": [
    "<h3><b>Multiple linear regression</b></h3> is a type of regression model that extends simple linear regression to include more than one independent variable. The goal is to find the best-fit hyperplane that describes how the dependent variable changes as the independent variables change. \n",
    "For example, we can use multiple linear regression to model,\n",
    "\n",
    "- How the price of a house depends on its size, location, number of bedrooms, and other features.\n",
    "- How the blood pressure of a patient depends on their age, weight, cholesterol level, and other factors.\n",
    "<br>\n",
    "\n",
    "<h3><b>Simple linear regression</b></h3> is a type of regression model that assumes a linear relationship between one independent variable and one dependent variable. The goal is to find the best-fit line that describes how the dependent variable changes as the independent variable changes. \n",
    "For example, we can use simple linear regression to model, \n",
    "\n",
    "- How the height of a child depends on their age. \n",
    "- how the fuel efficiency of a car depends on its speed.\n"
   ]
  },
  {
   "cell_type": "markdown",
   "id": "5531b54d",
   "metadata": {},
   "source": [
    "### Q6. Explain the concept of multicollinearity in multiple linear regression. How can you detect and address this issue?\n"
   ]
  },
  {
   "cell_type": "markdown",
   "id": "8d9f14e5",
   "metadata": {},
   "source": [
    "Multicollinearity is when two or more independent variables in a multiple linear regression model are highly correlated with each other. This can make it hard to estimate the individual effect of each variable on the dependent variable.\n",
    "\n",
    "To detect multicollinearity, we can use  the correlation matrix. To address multicollinearity, we can remove or combine some of the correlated variables, use regularization techniques (Rigde , Lasso or ElasticNet)"
   ]
  },
  {
   "cell_type": "markdown",
   "id": "44686382",
   "metadata": {},
   "source": [
    "### Q7. Describe the polynomial regression model. How is it different from linear regression?\n"
   ]
  },
  {
   "cell_type": "markdown",
   "id": "2e32e8c7",
   "metadata": {},
   "source": [
    "Polynomial regression is a type of regression model that uses a polynomial function of the independent variable to predict the dependent variable. It can fit more complex and nonlinear data than linear regression, which uses a straight line function."
   ]
  },
  {
   "cell_type": "markdown",
   "id": "fd54ba1d",
   "metadata": {},
   "source": [
    "### Q8. What are the advantages and disadvantages of polynomial regression compared to linear regression? In what situations would you prefer to use polynomial regression?"
   ]
  },
  {
   "cell_type": "markdown",
   "id": "ed3e1e49",
   "metadata": {},
   "source": [
    "Polynomial regression is a type of regression model that uses a polynomial function of the independent variable to predict the dependent variable. It can fit more complex and nonlinear data than linear regression, which uses a straight line function.\n",
    "\n",
    "Some of the advantages and disadvantages of polynomial regression compared to linear regression are:\n",
    "\n",
    "- Advantages:\n",
    "    * Polynomial regression can capture the curvature and interactions of the variables better than linear regression, which can only model linear relationships.\n",
    "    * Polynomial regression can provide a better fit and accuracy for some datasets that have a nonlinear pattern or a high degree of variability.\n",
    "\n",
    "- Disadvantages:\n",
    "    * Polynomial regression can be prone to overfitting, meaning it can fit the noise and outliers in the data rather than the underlying trend, especially if the degree of the polynomial is too high or the data is sparse.\n",
    "    * Polynomial regression can be more computationally expensive and difficult to interpret than linear regression.\n",
    "\n",
    "We should prefer to use polynomial regression when the relationship between the dependent and independent variables is not linear and shows a clear nonlinear pattern that cannot be captured by linear regression. "
   ]
  },
  {
   "cell_type": "code",
   "execution_count": null,
   "id": "44c7576c",
   "metadata": {},
   "outputs": [],
   "source": []
  }
 ],
 "metadata": {
  "kernelspec": {
   "display_name": "Python 3 (ipykernel)",
   "language": "python",
   "name": "python3"
  },
  "language_info": {
   "codemirror_mode": {
    "name": "ipython",
    "version": 3
   },
   "file_extension": ".py",
   "mimetype": "text/x-python",
   "name": "python",
   "nbconvert_exporter": "python",
   "pygments_lexer": "ipython3",
   "version": "3.9.13"
  }
 },
 "nbformat": 4,
 "nbformat_minor": 5
}
