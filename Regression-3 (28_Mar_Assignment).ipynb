{
 "cells": [
  {
   "cell_type": "markdown",
   "id": "55062c58",
   "metadata": {},
   "source": [
    "### Q1. What is Ridge Regression, and how does it differ from ordinary least squares regression?\n"
   ]
  },
  {
   "cell_type": "markdown",
   "id": "1fbd216f",
   "metadata": {},
   "source": [
    "A type of linear regression that adds a penalty term to the ordinary least squares objective function, which shrinks the coefficients towards zero and reduces overfitting."
   ]
  },
  {
   "cell_type": "markdown",
   "id": "ea5eb824",
   "metadata": {},
   "source": [
    "### Q2. What are the assumptions of Ridge Regression?\n"
   ]
  },
  {
   "cell_type": "markdown",
   "id": "ee32bcfa",
   "metadata": {},
   "source": [
    "Ridge Regression assumes that the independent variables are linearly related to the dependent variable, that the errors are normally distributed and homoscedastic, and that there is no perfect multicollinearity among the independent variables."
   ]
  },
  {
   "cell_type": "markdown",
   "id": "abcf74b7",
   "metadata": {},
   "source": [
    "### Q3. How do you select the value of the tuning parameter (lambda) in Ridge Regression?\n"
   ]
  },
  {
   "cell_type": "markdown",
   "id": "1f953930",
   "metadata": {},
   "source": [
    "The value of lambda, the tuning parameter, controls the amount of regularization applied to the coefficients. It can be selected by cross-validation, grid search, or other methods that minimize the prediction error or a criterion such as AIC or BIC."
   ]
  },
  {
   "cell_type": "markdown",
   "id": "2e40b9bd",
   "metadata": {},
   "source": [
    "### Q4. Can Ridge Regression be used for feature selection? If yes, how?\n"
   ]
  },
  {
   "cell_type": "markdown",
   "id": "3d05505a",
   "metadata": {},
   "source": [
    "Ridge Regression can be used for feature selection by examining the magnitude of the coefficients. Variables with very small or zero coefficients can be considered irrelevant or redundant and removed from the model."
   ]
  },
  {
   "cell_type": "markdown",
   "id": "3c1b72a0",
   "metadata": {},
   "source": [
    "### Q5. How does the Ridge Regression model perform in the presence of multicollinearity?\n"
   ]
  },
  {
   "cell_type": "markdown",
   "id": "c4333ca7",
   "metadata": {},
   "source": [
    "Ridge Regression can handle multicollinearity better than ordinary least squares, as it reduces the variance of the coefficients and prevents them from becoming very large or unstable."
   ]
  },
  {
   "cell_type": "markdown",
   "id": "414d582a",
   "metadata": {},
   "source": [
    "### Q6. Can Ridge Regression handle both categorical and continuous independent variables?\n"
   ]
  },
  {
   "cell_type": "markdown",
   "id": "be416359",
   "metadata": {},
   "source": [
    " Ridge Regression can handle both categorical and continuous independent variables, as long as they are properly encoded and scaled. For example, categorical variables can be converted to dummy variables, and continuous variables can be standardized or normalized."
   ]
  },
  {
   "cell_type": "markdown",
   "id": "130f4e62",
   "metadata": {},
   "source": [
    "### Q7. How do you interpret the coefficients of Ridge Regression?\n"
   ]
  },
  {
   "cell_type": "markdown",
   "id": "26a5fd2f",
   "metadata": {},
   "source": [
    "The coefficients of Ridge Regression can be interpreted similarly to ordinary least squares, as the change in the dependent variable for a unit change in the independent variable, holding other variables constant. However, the coefficients are not directly comparable across models with different values of lambda, as they are affected by the regularization term."
   ]
  },
  {
   "cell_type": "markdown",
   "id": "82d039d7",
   "metadata": {},
   "source": [
    "### Q8. Can Ridge Regression be used for time-series data analysis? If yes, how?"
   ]
  },
  {
   "cell_type": "markdown",
   "id": "18666ac0",
   "metadata": {},
   "source": [
    "Ridge Regression can be used for time-series data analysis, as long as the data meets the assumptions and the temporal dependence is accounted for. For example, Ridge Regression can be combined with ARIMA models, or the lagged values of the dependent or independent variables can be included as predictors."
   ]
  }
 ],
 "metadata": {
  "kernelspec": {
   "display_name": "Python 3 (ipykernel)",
   "language": "python",
   "name": "python3"
  },
  "language_info": {
   "codemirror_mode": {
    "name": "ipython",
    "version": 3
   },
   "file_extension": ".py",
   "mimetype": "text/x-python",
   "name": "python",
   "nbconvert_exporter": "python",
   "pygments_lexer": "ipython3",
   "version": "3.11.5"
  }
 },
 "nbformat": 4,
 "nbformat_minor": 5
}
