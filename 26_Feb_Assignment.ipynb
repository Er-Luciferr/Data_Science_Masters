{
 "cells": [
  {
   "cell_type": "code",
   "execution_count": 1,
   "id": "5b07104d",
   "metadata": {},
   "outputs": [
    {
     "data": {
      "text/plain": [
       "array([1, 2, 3, 4, 5])"
      ]
     },
     "execution_count": 1,
     "metadata": {},
     "output_type": "execute_result"
    }
   ],
   "source": [
    "#Consider the below code to answer further questions:\n",
    "import numpy as np\n",
    "list_ = [ 1 , 2 , 3 , 4 , 5 ]\n",
    "array_list = np.array(object = list_)\n",
    "array_list"
   ]
  },
  {
   "cell_type": "markdown",
   "id": "4cb4db44",
   "metadata": {},
   "source": [
    "<h3>Q1. Is there any difference in the data type of variables list_ and array_list? If there is then write a code\n",
    "to print the data types of both the variables."
   ]
  },
  {
   "cell_type": "markdown",
   "id": "737fd11c",
   "metadata": {},
   "source": [
    "<h4>Yes, there is a difference in the data types of the variables list_ and array_list. list_ is a Python list, while array_list is a NumPy array. "
   ]
  },
  {
   "cell_type": "code",
   "execution_count": 2,
   "id": "6feb779e",
   "metadata": {},
   "outputs": [
    {
     "data": {
      "text/plain": [
       "list"
      ]
     },
     "execution_count": 2,
     "metadata": {},
     "output_type": "execute_result"
    }
   ],
   "source": [
    "array_list = np.array(list_)\n",
    "type(list_) \n"
   ]
  },
  {
   "cell_type": "code",
   "execution_count": 3,
   "id": "3d603bd3",
   "metadata": {},
   "outputs": [
    {
     "data": {
      "text/plain": [
       "numpy.ndarray"
      ]
     },
     "execution_count": 3,
     "metadata": {},
     "output_type": "execute_result"
    }
   ],
   "source": [
    "type(array_list)"
   ]
  },
  {
   "cell_type": "markdown",
   "id": "fd05491d",
   "metadata": {},
   "source": [
    "<h3>Q2. Write a code to print the data type of each and every element of both the variables list_ and\n",
    "arra_list.\n"
   ]
  },
  {
   "cell_type": "code",
   "execution_count": 4,
   "id": "a3b9410d",
   "metadata": {},
   "outputs": [],
   "source": [
    "variables_list = ['mohit',5,56,100,10.5]\n",
    "arra_list = np.array([1,2,3,56,7,89])"
   ]
  },
  {
   "cell_type": "code",
   "execution_count": 5,
   "id": "47c8b52f",
   "metadata": {},
   "outputs": [],
   "source": [
    "def iter(x):\n",
    "    for i in x:        \n",
    "        print(type(i))"
   ]
  },
  {
   "cell_type": "code",
   "execution_count": 6,
   "id": "a613943f",
   "metadata": {},
   "outputs": [
    {
     "name": "stdout",
     "output_type": "stream",
     "text": [
      "<class 'str'>\n",
      "<class 'int'>\n",
      "<class 'int'>\n",
      "<class 'int'>\n",
      "<class 'float'>\n"
     ]
    }
   ],
   "source": [
    "iter(variables_list)"
   ]
  },
  {
   "cell_type": "code",
   "execution_count": 7,
   "id": "4474b471",
   "metadata": {},
   "outputs": [
    {
     "name": "stdout",
     "output_type": "stream",
     "text": [
      "<class 'numpy.int32'>\n",
      "<class 'numpy.int32'>\n",
      "<class 'numpy.int32'>\n",
      "<class 'numpy.int32'>\n",
      "<class 'numpy.int32'>\n",
      "<class 'numpy.int32'>\n"
     ]
    }
   ],
   "source": [
    "iter(arra_list)"
   ]
  },
  {
   "cell_type": "markdown",
   "id": "55b2da76",
   "metadata": {},
   "source": [
    "<h3>Q3. Considering the following changes in the variable, array_list:\n",
    "\n",
    "<br>array_list = np.array(object = list_, dtype = int)\n",
    "<br>Will there be any difference in the data type of the elements present in both the variables, list_ and\n",
    "<br>arra_list? If so then print the data types of each and every element present in both the variables, list_\n",
    "and arra_list.\n",
    "<br>\n",
    "<br>Consider the below code to answer further questions:\n",
    "<br>\n",
    "<br>\n",
    "<br>import numpy as np\n",
    "<br>num_list = [ [ 1 , 2 , 3 ] , [ 4 , 5 , 6 ] ]\n",
    "<br>num_array = np.array(object = num_list)\n"
   ]
  },
  {
   "cell_type": "code",
   "execution_count": 8,
   "id": "3fbce1da",
   "metadata": {},
   "outputs": [],
   "source": [
    "array_list = np.array(object = list_, dtype = int)"
   ]
  },
  {
   "cell_type": "code",
   "execution_count": 9,
   "id": "26609008",
   "metadata": {},
   "outputs": [],
   "source": [
    "import numpy as np\n",
    "num_list = [ [ 1 , 2 , 3 ] , [ 4 , 5 , 6 ] ]\n",
    "num_array = np.array(object = num_list)"
   ]
  },
  {
   "cell_type": "code",
   "execution_count": 10,
   "id": "c26adeb0",
   "metadata": {},
   "outputs": [
    {
     "name": "stdout",
     "output_type": "stream",
     "text": [
      "<class 'numpy.ndarray'>\n",
      "<class 'numpy.ndarray'>\n"
     ]
    }
   ],
   "source": [
    "iter(num_array)"
   ]
  },
  {
   "cell_type": "code",
   "execution_count": 11,
   "id": "b05e1a1d",
   "metadata": {},
   "outputs": [
    {
     "name": "stdout",
     "output_type": "stream",
     "text": [
      "<class 'list'>\n",
      "<class 'list'>\n"
     ]
    }
   ],
   "source": [
    "iter(num_list)"
   ]
  },
  {
   "cell_type": "markdown",
   "id": "8e22ba78",
   "metadata": {},
   "source": [
    "<h3>Q4. Write a code to find the following characteristics of variable, num_array:\n",
    "<br>(i) shape\n",
    "<br>(ii) size\n"
   ]
  },
  {
   "cell_type": "code",
   "execution_count": 12,
   "id": "89c13b6b",
   "metadata": {},
   "outputs": [
    {
     "data": {
      "text/plain": [
       "(2, 3)"
      ]
     },
     "execution_count": 12,
     "metadata": {},
     "output_type": "execute_result"
    }
   ],
   "source": [
    "#Shape function describes dimensions of array \n",
    "num_array.shape"
   ]
  },
  {
   "cell_type": "code",
   "execution_count": 13,
   "id": "7395e063",
   "metadata": {},
   "outputs": [
    {
     "data": {
      "text/plain": [
       "6"
      ]
     },
     "execution_count": 13,
     "metadata": {},
     "output_type": "execute_result"
    }
   ],
   "source": [
    "#Size function describes the total number of element present in array\n",
    "num_array.size"
   ]
  },
  {
   "cell_type": "markdown",
   "id": "403fd4ee",
   "metadata": {},
   "source": [
    "<h3>Q5. Write a code to create numpy array of 3*3 matrix containing zeros only, using a numpy array\n",
    "creation function.\n",
    "<br>[Hint: The size of the array will be 9 and the shape will be (3,3).]\n"
   ]
  },
  {
   "cell_type": "code",
   "execution_count": 14,
   "id": "52503e22",
   "metadata": {},
   "outputs": [],
   "source": [
    "mat = np.zeros((3,3))"
   ]
  },
  {
   "cell_type": "code",
   "execution_count": 15,
   "id": "e65f8b47",
   "metadata": {},
   "outputs": [
    {
     "data": {
      "text/plain": [
       "array([[0., 0., 0.],\n",
       "       [0., 0., 0.],\n",
       "       [0., 0., 0.]])"
      ]
     },
     "execution_count": 15,
     "metadata": {},
     "output_type": "execute_result"
    }
   ],
   "source": [
    "mat"
   ]
  },
  {
   "cell_type": "markdown",
   "id": "4802354f",
   "metadata": {},
   "source": [
    "<h3>Q6. Create an identity matrix of shape (5,5) using numpy functions?\n",
    "<br>[Hint: An identity matrix is a matrix containing 1 diagonally and other elements will be 0.]"
   ]
  },
  {
   "cell_type": "code",
   "execution_count": 16,
   "id": "d0da4e2f",
   "metadata": {},
   "outputs": [
    {
     "data": {
      "text/plain": [
       "array([[1., 0., 0., 0., 0.],\n",
       "       [0., 1., 0., 0., 0.],\n",
       "       [0., 0., 1., 0., 0.],\n",
       "       [0., 0., 0., 1., 0.],\n",
       "       [0., 0., 0., 0., 1.]])"
      ]
     },
     "execution_count": 16,
     "metadata": {},
     "output_type": "execute_result"
    }
   ],
   "source": [
    "i_mat = np.eye(5)\n",
    "i_mat"
   ]
  }
 ],
 "metadata": {
  "kernelspec": {
   "display_name": "Python 3 (ipykernel)",
   "language": "python",
   "name": "python3"
  },
  "language_info": {
   "codemirror_mode": {
    "name": "ipython",
    "version": 3
   },
   "file_extension": ".py",
   "mimetype": "text/x-python",
   "name": "python",
   "nbconvert_exporter": "python",
   "pygments_lexer": "ipython3",
   "version": "3.9.13"
  }
 },
 "nbformat": 4,
 "nbformat_minor": 5
}
