{
 "cells": [
  {
   "cell_type": "markdown",
   "id": "aee26736",
   "metadata": {},
   "source": [
    "1) Write a program to accept percentage from the user and display the grade according to the following criteria:\n",
    "\n",
    "\n",
    "|     Marks           |              Grade |\n",
    "|---------------------|--------------------|\n",
    "|  > 90               |                A   |\n",
    "|                     |                    |\n",
    "|  > 80 and <= 90     |                B   |\n",
    "|                     |                    |\n",
    "|  >= 60 and <= 80    |                C   |\n",
    "|                     |                    |\n",
    "|  Below 60           |                D   |\n",
    "\n",
    "\n"
   ]
  },
  {
   "cell_type": "code",
   "execution_count": 4,
   "id": "daf1cb0f",
   "metadata": {},
   "outputs": [
    {
     "name": "stdout",
     "output_type": "stream",
     "text": [
      "What is your percentage89\n",
      "Your Grade is :-  B\n"
     ]
    }
   ],
   "source": [
    "percentage = float(input(\"What is your percentage\"))\n",
    "\n",
    "if percentage > 90:\n",
    "    g = \"A\"\n",
    "elif percentage >= 80:\n",
    "    g = 'B'\n",
    "elif percentage >= 60:\n",
    "    g = 'C'\n",
    "else :\n",
    "    g = 'D'\n",
    "\n",
    "print('Your Grade is :- ', g)\n"
   ]
  },
  {
   "cell_type": "markdown",
   "id": "30e7bccb",
   "metadata": {},
   "source": [
    "2) Write a program to accept the cost price of a bike and display the road tax to be paid according to the following criteria\n",
    "\n",
    "| Tax  | Cost Price (in Rs) |\n",
    "|------|--------------------|\n",
    "|15%   | >100000            |\n",
    "|10%   | >50000 and <=100000|\n",
    "|5%    | <= 50000           |"
   ]
  },
  {
   "cell_type": "code",
   "execution_count": 5,
   "id": "7145eb31",
   "metadata": {},
   "outputs": [
    {
     "name": "stdout",
     "output_type": "stream",
     "text": [
      "What is the cost price of car?1500000\n",
      "Your road tax is :- Rs. 225000.0\n"
     ]
    }
   ],
   "source": [
    "price = float(input('What is the cost price of car?'))\n",
    "\n",
    "if price >= 100000:\n",
    "    tax = price * (15/100)\n",
    "elif price >= 50000:\n",
    "    tax = price * (10/100)\n",
    "else:\n",
    "    tax = price * (5/100)\n",
    "\n",
    "print('Your road tax is :- Rs.', tax)"
   ]
  },
  {
   "cell_type": "markdown",
   "id": "161c3d7e",
   "metadata": {},
   "source": [
    "3) Accept any city from the user and display monuments of the city.\n",
    "\n",
    "|  City   |  Monuments of the city  |\n",
    "|---------|-------------------------|\n",
    "|Delhi|Red fort|\n",
    "|Agra| Taj Mahal |\n",
    "|Jaipur | Jal Mahal |"
   ]
  },
  {
   "cell_type": "code",
   "execution_count": 6,
   "id": "5eab0dbf",
   "metadata": {},
   "outputs": [
    {
     "name": "stdout",
     "output_type": "stream",
     "text": [
      "Enter your citydelHi\n",
      "Monument of city is :- Red fort\n"
     ]
    }
   ],
   "source": [
    "city = input('Enter your city').lower()\n",
    "\n",
    "\n",
    "if city == 'delhi':\n",
    "    m = 'Red fort'\n",
    "elif city == 'agra':\n",
    "    m = 'Taj Mahal'\n",
    "elif city == 'jaipur':\n",
    "    m = 'Jal Mahal'\n",
    "else:\n",
    "    m = 'Need to update database'\n",
    "\n",
    "    \n",
    "print('Monument of city is :-', m)"
   ]
  },
  {
   "cell_type": "markdown",
   "id": "39b8db14",
   "metadata": {},
   "source": [
    "4) Check how many times a given number can be divided by 3 before it is less than or equal to 10 "
   ]
  },
  {
   "cell_type": "code",
   "execution_count": 7,
   "id": "ba7eee37",
   "metadata": {},
   "outputs": [
    {
     "name": "stdout",
     "output_type": "stream",
     "text": [
      "Enter your number- 46798985323\n",
      "your no 21\n"
     ]
    }
   ],
   "source": [
    "number = int(input('Enter your number- '))\n",
    "count = 0\n",
    "\n",
    "while number > 10:\n",
    "    number /= 3\n",
    "    count += 1\n",
    "\n",
    "print('your no',count)"
   ]
  },
  {
   "cell_type": "markdown",
   "id": "d25ef267",
   "metadata": {},
   "source": [
    "5) Why and when to use While Loop in Python give a detailed description with examples ?\n"
   ]
  },
  {
   "cell_type": "markdown",
   "id": "7caf812f",
   "metadata": {},
   "source": [
    "A while loop is used to repeatedly execute a block of code as long as a certain condition is True. It is useful when the number of iterations is unknown and depends on a specific condition being met."
   ]
  },
  {
   "cell_type": "code",
   "execution_count": 8,
   "id": "a4f97c4c",
   "metadata": {},
   "outputs": [
    {
     "name": "stdout",
     "output_type": "stream",
     "text": [
      "1\n",
      "2\n",
      "3\n",
      "4\n",
      "5\n"
     ]
    }
   ],
   "source": [
    "i = 1\n",
    "while i <= 5:\n",
    "    print(i)\n",
    "    i += 1"
   ]
  },
  {
   "cell_type": "markdown",
   "id": "4587ca72",
   "metadata": {},
   "source": [
    "6) Use nested while loop to print 3 different patterns."
   ]
  },
  {
   "cell_type": "code",
   "execution_count": 9,
   "id": "cb37b957",
   "metadata": {},
   "outputs": [
    {
     "name": "stdout",
     "output_type": "stream",
     "text": [
      "* \n",
      "* * \n",
      "* * * \n",
      "* * * * \n",
      "* * * * * \n"
     ]
    }
   ],
   "source": [
    "n = 5\n",
    "i = 1\n",
    "while i <= n:\n",
    "    j = 1\n",
    "    while j <= i:\n",
    "        print('*', end=' ')\n",
    "        j += 1\n",
    "    print()\n",
    "    i += 1"
   ]
  },
  {
   "cell_type": "code",
   "execution_count": 10,
   "id": "004bc533",
   "metadata": {},
   "outputs": [
    {
     "name": "stdout",
     "output_type": "stream",
     "text": [
      "        1 \n",
      "      1 2 1 \n",
      "    1 2 3 2 1 \n",
      "  1 2 3 4 3 2 1 \n",
      "1 2 3 4 5 4 3 2 1 \n"
     ]
    }
   ],
   "source": [
    "n = 5\n",
    "i = 1\n",
    "while i <= n:\n",
    "    j = n - i\n",
    "    while j > 0:\n",
    "        print(' ', end=' ')\n",
    "        j -= 1\n",
    "    j = 1\n",
    "    while j <= i:\n",
    "        print(j, end=' ')\n",
    "        j += 1\n",
    "    j = i - 1\n",
    "    while j >= 1:\n",
    "        print(j, end=' ')\n",
    "        j -= 1\n",
    "    print()\n",
    "    i += 1"
   ]
  },
  {
   "cell_type": "code",
   "execution_count": 11,
   "id": "805662be",
   "metadata": {},
   "outputs": [
    {
     "name": "stdout",
     "output_type": "stream",
     "text": [
      "    * * * \n",
      "  * * * * * \n",
      "* * * * * * * \n",
      "      * * * \n",
      "        * \n"
     ]
    }
   ],
   "source": [
    "n = 5\n",
    "i = n - (n // 2)\n",
    "while i <= n:\n",
    "    j = n - i\n",
    "    while j > 0:\n",
    "        print(' ', end=' ')\n",
    "        j -= 1\n",
    "    j = i * 2 - n % 2 - (n //2)\n",
    "    while j >0:\n",
    "        print('*', end=' ')\n",
    "        j -=1\n",
    "    print()\n",
    "    i +=1\n",
    "\n",
    "i = n - (n //2) - (n %2) -1\n",
    "\n",
    "while i >=0:\n",
    "    j = n - i - (n %2)\n",
    "    while j >0:\n",
    "        print(' ', end=' ')\n",
    "        j -=1\n",
    "    j = i *2 + (n %2)\n",
    "    while j >0:\n",
    "        print('*', end=' ')\n",
    "        j -=1\n",
    "    print()\n",
    "    i -=1"
   ]
  },
  {
   "cell_type": "markdown",
   "id": "c9cb3f5d",
   "metadata": {},
   "source": [
    "7) Reverse a while loop to display numbers from 10 to 1."
   ]
  },
  {
   "cell_type": "code",
   "execution_count": 12,
   "id": "b9932dfc",
   "metadata": {},
   "outputs": [
    {
     "name": "stdout",
     "output_type": "stream",
     "text": [
      "10\n",
      "9\n",
      "8\n",
      "7\n",
      "6\n",
      "5\n",
      "4\n",
      "3\n",
      "2\n",
      "1\n"
     ]
    }
   ],
   "source": [
    "i = 10\n",
    "while i >= 1:\n",
    "    print(i)\n",
    "    i -= 1"
   ]
  },
  {
   "cell_type": "markdown",
   "id": "e07b9317",
   "metadata": {},
   "source": [
    "8) Reverse a while loop to display numbers from 10 to 1."
   ]
  },
  {
   "cell_type": "code",
   "execution_count": 13,
   "id": "8d126b05",
   "metadata": {},
   "outputs": [
    {
     "name": "stdout",
     "output_type": "stream",
     "text": [
      "10\n",
      "9\n",
      "8\n",
      "7\n",
      "6\n",
      "5\n",
      "4\n",
      "3\n",
      "2\n",
      "1\n"
     ]
    }
   ],
   "source": [
    "i = 10\n",
    "while i >= 1:\n",
    "    print(i)\n",
    "    i -= 1"
   ]
  },
  {
   "cell_type": "code",
   "execution_count": null,
   "id": "e548d300",
   "metadata": {},
   "outputs": [],
   "source": []
  }
 ],
 "metadata": {
  "kernelspec": {
   "display_name": "Python 3 (ipykernel)",
   "language": "python",
   "name": "python3"
  },
  "language_info": {
   "codemirror_mode": {
    "name": "ipython",
    "version": 3
   },
   "file_extension": ".py",
   "mimetype": "text/x-python",
   "name": "python",
   "nbconvert_exporter": "python",
   "pygments_lexer": "ipython3",
   "version": "3.9.13"
  }
 },
 "nbformat": 4,
 "nbformat_minor": 5
}
