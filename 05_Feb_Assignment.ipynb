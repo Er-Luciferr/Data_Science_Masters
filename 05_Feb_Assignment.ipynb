{
 "cells": [
  {
   "cell_type": "markdown",
   "id": "43e78ac4",
   "metadata": {},
   "source": [
    "Q1. Explain Class and Object with respect to Object-Oriented Programming. Give a suitable example.\n"
   ]
  },
  {
   "cell_type": "markdown",
   "id": "e89aa88a",
   "metadata": {},
   "source": [
    "ANSWER :-\n",
    "\n",
    "In Object Oriented Programming, a class is a blueprint for creating objects, providing initial values for state and implementations of behaviour.\n",
    "An object is an instance of a class. For example a class could be a blueprint for a Car and an object could be a specific Car like Honda Civic"
   ]
  },
  {
   "cell_type": "markdown",
   "id": "ab9a3c45",
   "metadata": {},
   "source": [
    "Q2. Name the four pillars of OOPs.\n"
   ]
  },
  {
   "cell_type": "markdown",
   "id": "55d9d944",
   "metadata": {},
   "source": [
    "ANSWER:-\n",
    "1) Abstraction\n",
    "\n",
    "2) Encapsulation\n",
    "\n",
    "3) Inheritance \n",
    "\n",
    "4) Polymorphism"
   ]
  },
  {
   "cell_type": "markdown",
   "id": "a2049245",
   "metadata": {},
   "source": [
    "Q3. Explain why the __init__() function is used. Give a suitable example.\n"
   ]
  },
  {
   "cell_type": "markdown",
   "id": "f8027f9f",
   "metadata": {},
   "source": [
    "ANSWER :-\n",
    "\n",
    "The __inti__() function is a special method in python classes called a constructor. It is run as soon as an object of a class is instantiated. The method is useful to do any initialization you want to do with your object For example when creating a Dog class, you could use the __init__() method to assign values for the dog's name and age."
   ]
  },
  {
   "cell_type": "code",
   "execution_count": 2,
   "id": "bdf57722",
   "metadata": {},
   "outputs": [],
   "source": [
    "class Dog:\n",
    "    def __init__(self, name , age):\n",
    "        self.name = name \n",
    "        self.age = age"
   ]
  },
  {
   "cell_type": "markdown",
   "id": "21e8ce45",
   "metadata": {},
   "source": [
    "Q4. Why self is used in OOPs?\n"
   ]
  },
  {
   "cell_type": "markdown",
   "id": "9f5f59ea",
   "metadata": {},
   "source": [
    "ANSWER :-\n",
    "\n",
    "In python, the word self is used to represent the  object of a class. Within a class's method, self refers to the instance of the class that is calling the method. It is used to access and modify the attributes and methods of the object. \n",
    "For example, in the dog class, self.name refers to the name attribute of the specific dog object that is calling the method.\n",
    "    "
   ]
  },
  {
   "cell_type": "markdown",
   "id": "2e166229",
   "metadata": {},
   "source": [
    "Q5. What is inheritance? Give an example for each type of inheritance."
   ]
  },
  {
   "cell_type": "markdown",
   "id": "edd52869",
   "metadata": {},
   "source": [
    "ANSWER :- \n",
    "\n",
    "Inheritence is a mechanism in OOPs that allow a new class to be created based on existing class. The new class inherits the attributes and methods of the existing class and can also add new attributes and methods or override the inherited ones . This allows for code reuse and make it easier to create and maintain complex systems\n",
    "\n",
    "* Single Inheritence\n",
    "\n",
    "* Multiple Inheritence \n",
    "\n",
    "* Multilevel Inheritence\n",
    "\n",
    "* Hierarchical Inheritence"
   ]
  },
  {
   "cell_type": "code",
   "execution_count": null,
   "id": "6127fe3c",
   "metadata": {},
   "outputs": [],
   "source": []
  }
 ],
 "metadata": {
  "kernelspec": {
   "display_name": "Python 3 (ipykernel)",
   "language": "python",
   "name": "python3"
  },
  "language_info": {
   "codemirror_mode": {
    "name": "ipython",
    "version": 3
   },
   "file_extension": ".py",
   "mimetype": "text/x-python",
   "name": "python",
   "nbconvert_exporter": "python",
   "pygments_lexer": "ipython3",
   "version": "3.9.13"
  }
 },
 "nbformat": 4,
 "nbformat_minor": 5
}
